{
 "cells": [
  {
   "cell_type": "code",
   "execution_count": 1,
   "metadata": {},
   "outputs": [
    {
     "name": "stderr",
     "output_type": "stream",
     "text": [
      "Error occurred during loading data. Trying to use cache server https://fake-useragent.herokuapp.com/browsers/0.1.11\n",
      "Traceback (most recent call last):\n",
      "  File \"c:\\Users\\ps712\\anaconda3\\envs\\py39\\lib\\site-packages\\fake_useragent\\utils.py\", line 154, in load\n",
      "    for item in get_browsers(verify_ssl=verify_ssl):\n",
      "  File \"c:\\Users\\ps712\\anaconda3\\envs\\py39\\lib\\site-packages\\fake_useragent\\utils.py\", line 99, in get_browsers\n",
      "    html = html.split('<table class=\"w3-table-all notranslate\">')[1]\n",
      "IndexError: list index out of range\n"
     ]
    }
   ],
   "source": [
    "import sys\n",
    "import io\n",
    "from bs4 import BeautifulSoup\n",
    "import requests\n",
    "from fake_useragent import UserAgent\n",
    "\n",
    "\n",
    "\n",
    "#Fake User-Agent 생성\n",
    "ua = UserAgent()\n",
    "\n",
    "#print(ua.ie)\n",
    "#print(ua.chrome)\n",
    "#print(ua.random)\n",
    "\n"
   ]
  },
  {
   "cell_type": "code",
   "execution_count": 4,
   "metadata": {},
   "outputs": [],
   "source": [
    "#요청 URL\n",
    "URL = 'https://www.wishket.com/accounts/login/'\n",
    "\n",
    "s=requests.Session()\n",
    "\n",
    "#URL연결\n",
    "s.get(URL)\n",
    "#Login 정보 Payload\n",
    "LOGIN_INFO = {\n",
    "    'identification': 'psseung712',\n",
    "    'password': 'forsim712!',\n",
    "    'csrfmiddlewaretoken': s.cookies['csrftoken']\n",
    "}\n",
    "#print('token', s.cookies['csrftoken'])\n",
    "#요청"
   ]
  },
  {
   "cell_type": "code",
   "execution_count": 49,
   "metadata": {},
   "outputs": [],
   "source": [
    "\n",
    "response = s.post(URL,data=LOGIN_INFO,headers={'User-Agent':str(ua.chrome), 'Referer':'https://www.wishket.com/accounts/login/'})\n",
    "#HTML 결과 확인\n",
    "#print('response',response.text)\n",
    "\n",
    "soup = BeautifulSoup(response.text,'html.parser')\n",
    "projectList = soup.select(\"div.user-project>div\")\n"
   ]
  },
  {
   "cell_type": "code",
   "execution_count": 12,
   "metadata": {},
   "outputs": [
    {
     "data": {
      "text/plain": [
       "[<div class=\"body-3 mb10 header\">지원한 프로젝트<p class=\"body-3-medium\">0건</p></div>,\n",
       " <div class=\"body-3 mb10 header\">계약한 프로젝트<p class=\"body-3-medium\">0건</p></div>,\n",
       " <div class=\"body-3 header\">누적 완료 금액<p class=\"body-3-medium\">0원</p></div>]"
      ]
     },
     "execution_count": 12,
     "metadata": {},
     "output_type": "execute_result"
    }
   ],
   "source": [
    "projectList"
   ]
  },
  {
   "cell_type": "code",
   "execution_count": 32,
   "metadata": {},
   "outputs": [],
   "source": [
    "a = soup.select(\"div\")"
   ]
  },
  {
   "cell_type": "code",
   "execution_count": 40,
   "metadata": {},
   "outputs": [
    {
     "data": {
      "text/plain": [
       "<div class=\"body-3 mb10 header\">지원한 프로젝트<p class=\"body-3-medium\">0건</p></div>"
      ]
     },
     "execution_count": 40,
     "metadata": {},
     "output_type": "execute_result"
    }
   ],
   "source": [
    "a=projectList[0]\n",
    "a"
   ]
  },
  {
   "cell_type": "code",
   "execution_count": 45,
   "metadata": {},
   "outputs": [
    {
     "name": "stdout",
     "output_type": "stream",
     "text": [
      "<div class=\"body-3 mb10 header\">지원한 프로젝트<p class=\"body-3-medium\">0건</p></div>\n",
      "<class 'bs4.element.Tag'>\n"
     ]
    }
   ],
   "source": [
    "print(a)\n",
    "print(type(a))"
   ]
  },
  {
   "cell_type": "code",
   "execution_count": 52,
   "metadata": {},
   "outputs": [
    {
     "data": {
      "text/plain": [
       "'지원한 프로젝트0건'"
      ]
     },
     "execution_count": 52,
     "metadata": {},
     "output_type": "execute_result"
    }
   ],
   "source": [
    "a.text"
   ]
  },
  {
   "cell_type": "code",
   "execution_count": 53,
   "metadata": {},
   "outputs": [
    {
     "data": {
      "text/plain": [
       "'지원한 프로젝트0건'"
      ]
     },
     "execution_count": 53,
     "metadata": {},
     "output_type": "execute_result"
    }
   ],
   "source": [
    "a.get_text()"
   ]
  },
  {
   "cell_type": "code",
   "execution_count": null,
   "metadata": {},
   "outputs": [],
   "source": []
  }
 ],
 "metadata": {
  "kernelspec": {
   "display_name": "Python 3.9.12 ('py39')",
   "language": "python",
   "name": "python3"
  },
  "language_info": {
   "codemirror_mode": {
    "name": "ipython",
    "version": 3
   },
   "file_extension": ".py",
   "mimetype": "text/x-python",
   "name": "python",
   "nbconvert_exporter": "python",
   "pygments_lexer": "ipython3",
   "version": "3.9.12"
  },
  "orig_nbformat": 4,
  "vscode": {
   "interpreter": {
    "hash": "357db68a37f64f9e34268239c3545916bd4d0d58fdeaedaee58912dfcfd50ccb"
   }
  }
 },
 "nbformat": 4,
 "nbformat_minor": 2
}
