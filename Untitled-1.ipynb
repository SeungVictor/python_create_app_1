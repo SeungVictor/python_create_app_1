{
 "cells": [
  {
   "cell_type": "code",
   "execution_count": 25,
   "metadata": {},
   "outputs": [],
   "source": [
    "import sys\n",
    "import io\n",
    "from selenium import webdriver\n",
    "from selenium.webdriver.chrome.options import Options\n",
    "from selenium.webdriver.common.keys import Keys\n",
    "import time\n",
    "import pyperclip\n",
    "driver = webdriver.Chrome()\n",
    "user_id = 'ps712'\n",
    "user_pw = 'chzhfflt1!'"
   ]
  },
  {
   "cell_type": "code",
   "execution_count": 26,
   "metadata": {},
   "outputs": [],
   "source": [
    "driver.get('https://nid.naver.com/nidlogin.login')\n",
    "pyperclip.copy(user_id)\n",
    "a =driver.find_element('xpath','//*[@id=\"id\"]').send_keys(Keys.CONTROL, 'v')\n",
    "time.sleep(3)\n",
    "pyperclip.copy(user_pw)\n",
    "driver.find_element('xpath','//*[@id=\"pw\"]').send_keys(Keys.CONTROL, 'v')\n",
    "time.sleep(3)\n",
    "driver.find_element('xpath','//*[@id=\"log.login\"]/span').click()\n",
    "time.sleep(2)\n",
    "driver.find_element('xpath','//*[@id=\"new.dontsave\"]').click()\n",
    "time.sleep(2)\n",
    "driver.get('https://cafe.naver.com/AttendanceView.nhn?search.clubid=12730407&search.menuid=99&search.attendyear=2022&search.attendmonth=07&search.attendday=27&search.page=1&lcs=Y')\n",
    "time.sleep(1)\n",
    "driver.switch_to.frame('cafe_main')\n",
    "driver.find_element('xpath','//*[@id=\"cmtinput\"]').send_keys('출석')\n",
    "time.sleep(1)\n",
    "driver.find_element('xpath','//*[@id=\"btn-submit-attendance\"]').click()"
   ]
  }
 ],
 "metadata": {
  "kernelspec": {
   "display_name": "Python 3.9.12 ('py39')",
   "language": "python",
   "name": "python3"
  },
  "language_info": {
   "codemirror_mode": {
    "name": "ipython",
    "version": 3
   },
   "file_extension": ".py",
   "mimetype": "text/x-python",
   "name": "python",
   "nbconvert_exporter": "python",
   "pygments_lexer": "ipython3",
   "version": "3.9.12"
  },
  "orig_nbformat": 4,
  "vscode": {
   "interpreter": {
    "hash": "357db68a37f64f9e34268239c3545916bd4d0d58fdeaedaee58912dfcfd50ccb"
   }
  }
 },
 "nbformat": 4,
 "nbformat_minor": 2
}
